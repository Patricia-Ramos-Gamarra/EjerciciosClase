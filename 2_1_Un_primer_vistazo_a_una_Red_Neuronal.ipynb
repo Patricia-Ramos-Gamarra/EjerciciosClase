{
  "nbformat": 4,
  "nbformat_minor": 0,
  "metadata": {
    "kernelspec": {
      "display_name": "Python 3",
      "language": "python",
      "name": "python3"
    },
    "language_info": {
      "codemirror_mode": {
        "name": "ipython",
        "version": 3
      },
      "file_extension": ".py",
      "mimetype": "text/x-python",
      "name": "python",
      "nbconvert_exporter": "python",
      "pygments_lexer": "ipython3",
      "version": "3.8.5"
    },
    "colab": {
      "provenance": []
    },
    "accelerator": "GPU",
    "gpuClass": "standard"
  },
  "cells": [
    {
      "cell_type": "markdown",
      "metadata": {
        "id": "Ejg7Msp7rbkk"
      },
      "source": [
        "# Ejercicio con regularizadores"
      ]
    },
    {
      "cell_type": "code",
      "source": [
        "%tensorflow_version 2.x\n",
        "import tensorflow as tf\n",
        "from tensorflow import keras\n",
        "print(tf.keras.__version__)\n",
        "print(\"GPU Available:\", tf.config.list_physical_devices('GPU'))\n",
        "print(tf.__version__)\n",
        "from keras.datasets import mnist\n",
        "from keras import models\n",
        "from keras import layers\n",
        "import numpy as np\n",
        "import matplotlib.pyplot as plt\n",
        "from keras import regularizers"
      ],
      "metadata": {
        "id": "BSivef1i532C",
        "outputId": "48d78604-b050-4af0-8fb3-7ecb86381b20",
        "colab": {
          "base_uri": "https://localhost:8080/"
        }
      },
      "execution_count": 1,
      "outputs": [
        {
          "output_type": "stream",
          "name": "stdout",
          "text": [
            "Colab only includes TensorFlow 2.x; %tensorflow_version has no effect.\n",
            "2.9.0\n",
            "GPU Available: [PhysicalDevice(name='/physical_device:GPU:0', device_type='GPU')]\n",
            "2.9.2\n"
          ]
        }
      ]
    },
    {
      "cell_type": "code",
      "source": [
        "(train_images, train_labels), (test_images, test_labels) = mnist.load_data()# Descarga los datos de MNIST"
      ],
      "metadata": {
        "id": "3t3R6gU9-wUy",
        "colab": {
          "base_uri": "https://localhost:8080/"
        },
        "outputId": "1f9d1d1c-6b07-4d9a-8cb8-f5d73766370f"
      },
      "execution_count": 2,
      "outputs": [
        {
          "output_type": "stream",
          "name": "stdout",
          "text": [
            "Downloading data from https://storage.googleapis.com/tensorflow/tf-keras-datasets/mnist.npz\n",
            "11490434/11490434 [==============================] - 2s 0us/step\n"
          ]
        }
      ]
    },
    {
      "cell_type": "code",
      "source": [
        "# Prepara con reshape y normaliza las imágenes tanto de entrenamiento como de test\n",
        "train_images = train_images.reshape((60000, 28*28))\n",
        "train_images = train_images.astype('float32') / 255\n",
        "\n",
        "test_images = test_images.reshape((10000, 28*28))\n",
        "test_images = test_images.astype('float32') / 255"
      ],
      "metadata": {
        "id": "H6n5NeSz0U1d"
      },
      "execution_count": 3,
      "outputs": []
    },
    {
      "cell_type": "code",
      "source": [
        "# Crear un subconjunto de imágenes de entrenamiento que llamaré\n",
        "# validation_images, para hacer las validaciones, con las 10000 últimas imágenes \n",
        "# del set de datos de entrenamiento (train_images) (obviamente, lo mismo con las\n",
        "# etiquetas correspondientes -> validation_labels). Deja preparadas las 50K \n",
        "# primeras imágenes y etiquetas para entrenamiento (train_images y train_labels)\n",
        "validation_images=train_images[50000:]\n",
        "validation_labels=train_labels[50000:]\n",
        "\n",
        "train_images=train_images[0:49999]\n",
        "train_labels=train_labels[0:49999]\n"
      ],
      "metadata": {
        "id": "NKoZGyap0XAj"
      },
      "execution_count": 4,
      "outputs": []
    },
    {
      "cell_type": "code",
      "source": [
        "def crea_modelo(regularizador):\n",
        "  # Define una función que recibe un número del 0 al 4 que creará:\n",
        "  # un modelo secuencial con una capa de entrada densa de 512 neuronas\n",
        "  # con activación relu y la capa de salida que le corresponda según el problema\n",
        "  # Ahora, en función del número del regularizador:\n",
        "  # Si es 0, no mete ningún regularizador\n",
        "  # Si es 1, mete un regularizador de tipo l1 y valor 0.001\n",
        "  # Si es 2, mete un regularizador de tipo l2 y valor 0.001\n",
        "  # Si es 3, mete un regularizador de tipo l1_l2 y valor 0.001 para ambos\n",
        "  # Si es 4, mete un Dropout del 50% después de la primera capa densa\n",
        "  # Si es distinto que estos valores, escribe el error y retorna\n",
        "  # Al final, esta función pinta el summary del modelo y retorna el modelo creado\n",
        "  if 0<=regularizador<=4:\n",
        "    modelo = models.Sequential() \n",
        "    if regularizador==0:\n",
        "    \n",
        "      modelo.add(layers.Dense(512, activation='relu', input_shape=(28*28,)))\n",
        "    \n",
        "    elif regularizador==1:\n",
        "    \n",
        "      modelo.add(layers.Dense(512,kernel_regularizer=regularizers.l1(0.001), activation='relu', input_shape=(28*28,)))\n",
        "    \n",
        "    elif regularizador==2:\n",
        "    \n",
        "      modelo.add(layers.Dense(512,kernel_regularizer=regularizers.l2(0.001), activation='relu', input_shape=(28*28,)))\n",
        "    \n",
        "    elif regularizador==3:\n",
        "    \n",
        "      modelo.add(layers.Dense(512,kernel_regularizer=regularizers.l1_l2(l1=0.001,l2=0.001), activation='relu', input_shape=(28*28,)))\n",
        "    \n",
        "\n",
        "    elif regularizador==4:\n",
        "    \n",
        "      modelo.add(layers.Dense(512, activation='relu', input_shape=(28*28,)))\n",
        "      modelo.add(layers.Dropout(0.5))\n",
        "    \n",
        " \n",
        "    modelo.add(layers.Dense(10, activation='softmax'))\n",
        "    modelo.summary()\n",
        "  else:\n",
        "    print(\"Error:Regularizador debe ser un número del 0 al 4\")\n",
        "    modelo=0\n",
        "  return modelo\n"
      ],
      "metadata": {
        "id": "6JnVLVfsAfkh"
      },
      "execution_count": 36,
      "outputs": []
    },
    {
      "cell_type": "code",
      "source": [
        "def compila_modelo(modelo): \n",
        "  # Define una función que recibe un modelo, lo compila con un optimizador\n",
        "  # 'rmsprop', con una función de pérdida 'sparse_categorical_crossentropy' y\n",
        "  # una métrica de precisión. La función retorna el modelo\n",
        "  modelo.compile(optimizer='rmsprop',\n",
        "                loss='sparse_categorical_crossentropy',\n",
        "                metrics=['accuracy'])\n",
        "  return modelo"
      ],
      "metadata": {
        "id": "qKyJ8KOT0aFt"
      },
      "execution_count": 6,
      "outputs": []
    },
    {
      "cell_type": "code",
      "source": [
        "def entrena_modelo(modelo):\n",
        "  # Define una función que entrena el modelo que se le pasa por parámetro,\n",
        "  # con las imágenes y etiquetas de entrenamiento, con 30 iteraciones y 128\n",
        "  # de tamaño de minilote y con el validation_data creado más arriba.\n",
        "  # Esta función devuelve un history\n",
        "  history=modelo.fit(train_images,\n",
        "                    train_labels,\n",
        "                    epochs=30,\n",
        "                    batch_size=128,\n",
        "                    validation_data=(validation_images, validation_labels))\n",
        "  return history"
      ],
      "metadata": {
        "id": "_yQ7SpOt0cBp"
      },
      "execution_count": 7,
      "outputs": []
    },
    {
      "cell_type": "code",
      "source": [
        "def pinta_perdida_entrenamiento_validacion(historia):\n",
        "  history_dict = historia.history\n",
        "  acc = historia.history['accuracy']\n",
        "  val_acc = historia.history['val_accuracy']\n",
        "  loss = historia.history['loss']\n",
        "  val_loss = historia.history['val_loss']\n",
        "  epochs = range(1, len(acc) + 1)\n",
        "  # \"bo\" es para \"punto azun\"\n",
        "  plt.plot(epochs, loss, 'bo', label='Pérdida de Entrenamiento')\n",
        "  # \"b\" es para \"linea continua azul\"\n",
        "  plt.plot(epochs, val_loss, 'b', label='Pérdida de Validación')\n",
        "  plt.title('Pérdida de Entrenamiento y Validación')\n",
        "  plt.xlabel('Epochs')\n",
        "  plt.ylabel('Loss')\n",
        "  plt.legend()\n",
        "  plt.show()"
      ],
      "metadata": {
        "id": "bJrRNc4WwPN2"
      },
      "execution_count": 8,
      "outputs": []
    },
    {
      "cell_type": "code",
      "source": [
        "def pinta_precision_entrenamiento_validacion(historia):\n",
        "  history_dict = historia.history\n",
        "  acc = historia.history['accuracy']\n",
        "  val_acc = historia.history['val_accuracy']\n",
        "  loss = historia.history['loss']\n",
        "  val_loss = historia.history['val_loss']\n",
        "  plt.clf()   # Limpia la figura\n",
        "  acc_values = history_dict['accuracy']\n",
        "  val_acc_values = history_dict['val_accuracy']\n",
        "  epochs = range(1, len(acc) + 1)\n",
        "  plt.plot(epochs, acc, 'bo', label='Precisión de Entrenamiento')\n",
        "  plt.plot(epochs, val_acc, 'b', label='Precisión de Validación')\n",
        "  plt.title('Precisión de Entrenamiento y Valización')\n",
        "  plt.xlabel('Epochs')\n",
        "  plt.ylabel('Loss')\n",
        "  plt.legend()\n",
        "  plt.show()"
      ],
      "metadata": {
        "id": "Mafxp6D3wYQx"
      },
      "execution_count": 9,
      "outputs": []
    },
    {
      "cell_type": "markdown",
      "source": [
        "## Una vez definidas todas las funciones anteriores, ejecuta las siguientes llamadas a dichas funciones y deduce que está pasando y, para este contexto, que es lo que mejor está funcionando"
      ],
      "metadata": {
        "id": "6nnQYysYA3_T"
      }
    },
    {
      "cell_type": "markdown",
      "source": [
        "### Caso 0, sin regularizadores"
      ],
      "metadata": {
        "id": "OrGwDgaFBax4"
      }
    },
    {
      "cell_type": "code",
      "source": [
        "network0 = crea_modelo(0)"
      ],
      "metadata": {
        "id": "uXvhlXg79Zi9",
        "outputId": "23fe2c93-0725-4ac9-f1f0-fa4465261615",
        "colab": {
          "base_uri": "https://localhost:8080/"
        }
      },
      "execution_count": 10,
      "outputs": [
        {
          "output_type": "stream",
          "name": "stdout",
          "text": [
            "Model: \"sequential\"\n",
            "_________________________________________________________________\n",
            " Layer (type)                Output Shape              Param #   \n",
            "=================================================================\n",
            " dense (Dense)               (None, 512)               401920    \n",
            "                                                                 \n",
            " dense_1 (Dense)             (None, 10)                5130      \n",
            "                                                                 \n",
            "=================================================================\n",
            "Total params: 407,050\n",
            "Trainable params: 407,050\n",
            "Non-trainable params: 0\n",
            "_________________________________________________________________\n"
          ]
        }
      ]
    },
    {
      "cell_type": "code",
      "source": [
        "network0 = compila_modelo(network0)"
      ],
      "metadata": {
        "id": "Ff0HC3NR9ez8"
      },
      "execution_count": 11,
      "outputs": []
    },
    {
      "cell_type": "code",
      "source": [
        "historia0 = entrena_modelo(network0)"
      ],
      "metadata": {
        "id": "x9zQDOlw9g6V",
        "outputId": "5e29abb8-6da7-42f0-98dd-83d040d1d50c",
        "colab": {
          "base_uri": "https://localhost:8080/"
        }
      },
      "execution_count": 12,
      "outputs": [
        {
          "output_type": "stream",
          "name": "stdout",
          "text": [
            "Epoch 1/30\n",
            "391/391 [==============================] - 9s 9ms/step - loss: 0.2817 - accuracy: 0.9179 - val_loss: 0.1468 - val_accuracy: 0.9575\n",
            "Epoch 2/30\n",
            "391/391 [==============================] - 2s 6ms/step - loss: 0.1156 - accuracy: 0.9656 - val_loss: 0.0978 - val_accuracy: 0.9714\n",
            "Epoch 3/30\n",
            "391/391 [==============================] - 1s 4ms/step - loss: 0.0758 - accuracy: 0.9772 - val_loss: 0.0915 - val_accuracy: 0.9731\n",
            "Epoch 4/30\n",
            "391/391 [==============================] - 1s 3ms/step - loss: 0.0542 - accuracy: 0.9844 - val_loss: 0.0813 - val_accuracy: 0.9756\n",
            "Epoch 5/30\n",
            "391/391 [==============================] - 2s 4ms/step - loss: 0.0419 - accuracy: 0.9876 - val_loss: 0.0763 - val_accuracy: 0.9771\n",
            "Epoch 6/30\n",
            "391/391 [==============================] - 1s 3ms/step - loss: 0.0308 - accuracy: 0.9911 - val_loss: 0.0766 - val_accuracy: 0.9789\n",
            "Epoch 7/30\n",
            "391/391 [==============================] - 1s 4ms/step - loss: 0.0233 - accuracy: 0.9935 - val_loss: 0.0804 - val_accuracy: 0.9794\n",
            "Epoch 8/30\n",
            "391/391 [==============================] - 2s 4ms/step - loss: 0.0174 - accuracy: 0.9948 - val_loss: 0.0738 - val_accuracy: 0.9822\n",
            "Epoch 9/30\n",
            "391/391 [==============================] - 1s 3ms/step - loss: 0.0134 - accuracy: 0.9959 - val_loss: 0.0815 - val_accuracy: 0.9796\n",
            "Epoch 10/30\n",
            "391/391 [==============================] - 1s 3ms/step - loss: 0.0102 - accuracy: 0.9973 - val_loss: 0.0785 - val_accuracy: 0.9814\n",
            "Epoch 11/30\n",
            "391/391 [==============================] - 2s 4ms/step - loss: 0.0081 - accuracy: 0.9977 - val_loss: 0.0832 - val_accuracy: 0.9804\n",
            "Epoch 12/30\n",
            "391/391 [==============================] - 2s 4ms/step - loss: 0.0059 - accuracy: 0.9984 - val_loss: 0.0922 - val_accuracy: 0.9798\n",
            "Epoch 13/30\n",
            "391/391 [==============================] - 1s 4ms/step - loss: 0.0046 - accuracy: 0.9987 - val_loss: 0.0896 - val_accuracy: 0.9816\n",
            "Epoch 14/30\n",
            "391/391 [==============================] - 2s 5ms/step - loss: 0.0033 - accuracy: 0.9991 - val_loss: 0.0964 - val_accuracy: 0.9795\n",
            "Epoch 15/30\n",
            "391/391 [==============================] - 1s 4ms/step - loss: 0.0026 - accuracy: 0.9993 - val_loss: 0.0944 - val_accuracy: 0.9815\n",
            "Epoch 16/30\n",
            "391/391 [==============================] - 2s 4ms/step - loss: 0.0019 - accuracy: 0.9995 - val_loss: 0.1056 - val_accuracy: 0.9809\n",
            "Epoch 17/30\n",
            "391/391 [==============================] - 1s 3ms/step - loss: 0.0016 - accuracy: 0.9996 - val_loss: 0.1053 - val_accuracy: 0.9801\n",
            "Epoch 18/30\n",
            "391/391 [==============================] - 1s 4ms/step - loss: 0.0015 - accuracy: 0.9996 - val_loss: 0.1052 - val_accuracy: 0.9813\n",
            "Epoch 19/30\n",
            "391/391 [==============================] - 1s 3ms/step - loss: 0.0011 - accuracy: 0.9996 - val_loss: 0.1123 - val_accuracy: 0.9815\n",
            "Epoch 20/30\n",
            "391/391 [==============================] - 1s 3ms/step - loss: 9.5925e-04 - accuracy: 0.9998 - val_loss: 0.1172 - val_accuracy: 0.9807\n",
            "Epoch 21/30\n",
            "391/391 [==============================] - 1s 3ms/step - loss: 6.9362e-04 - accuracy: 0.9999 - val_loss: 0.1145 - val_accuracy: 0.9831\n",
            "Epoch 22/30\n",
            "391/391 [==============================] - 1s 4ms/step - loss: 4.8558e-04 - accuracy: 0.9999 - val_loss: 0.1145 - val_accuracy: 0.9833\n",
            "Epoch 23/30\n",
            "391/391 [==============================] - 1s 3ms/step - loss: 4.3342e-04 - accuracy: 0.9999 - val_loss: 0.1204 - val_accuracy: 0.9822\n",
            "Epoch 24/30\n",
            "391/391 [==============================] - 1s 4ms/step - loss: 3.9633e-04 - accuracy: 0.9999 - val_loss: 0.1221 - val_accuracy: 0.9826\n",
            "Epoch 25/30\n",
            "391/391 [==============================] - 2s 4ms/step - loss: 3.8874e-04 - accuracy: 0.9999 - val_loss: 0.1336 - val_accuracy: 0.9808\n",
            "Epoch 26/30\n",
            "391/391 [==============================] - 1s 3ms/step - loss: 2.6067e-04 - accuracy: 0.9999 - val_loss: 0.1310 - val_accuracy: 0.9818\n",
            "Epoch 27/30\n",
            "391/391 [==============================] - 2s 4ms/step - loss: 1.4347e-04 - accuracy: 1.0000 - val_loss: 0.1237 - val_accuracy: 0.9829\n",
            "Epoch 28/30\n",
            "391/391 [==============================] - 2s 4ms/step - loss: 1.1195e-04 - accuracy: 1.0000 - val_loss: 0.1315 - val_accuracy: 0.9827\n",
            "Epoch 29/30\n",
            "391/391 [==============================] - 1s 3ms/step - loss: 1.6740e-04 - accuracy: 0.9999 - val_loss: 0.1422 - val_accuracy: 0.9821\n",
            "Epoch 30/30\n",
            "391/391 [==============================] - 1s 4ms/step - loss: 2.2512e-04 - accuracy: 0.9999 - val_loss: 0.1366 - val_accuracy: 0.9829\n"
          ]
        }
      ]
    },
    {
      "cell_type": "code",
      "source": [
        "pinta_perdida_entrenamiento_validacion(historia0)"
      ],
      "metadata": {
        "id": "OvhDZvS8-0mG",
        "outputId": "b7a340c7-29cf-4f04-fd09-b5df9ed09da4",
        "colab": {
          "base_uri": "https://localhost:8080/",
          "height": 295
        }
      },
      "execution_count": 13,
      "outputs": [
        {
          "output_type": "display_data",
          "data": {
            "text/plain": [
              "<Figure size 432x288 with 1 Axes>"
            ],
            "image/png": "[encoded data removed]"
          },
          "metadata": {
            "needs_background": "light"
          }
        }
      ]
    },
    {
      "cell_type": "code",
      "source": [
        "pinta_precision_entrenamiento_validacion(historia0)"
      ],
      "metadata": {
        "id": "UuiL2CCH_fGN",
        "outputId": "799b4385-06ee-4670-b8c4-9b14c3ed67c2",
        "colab": {
          "base_uri": "https://localhost:8080/",
          "height": 295
        }
      },
      "execution_count": 14,
      "outputs": [
        {
          "output_type": "display_data",
          "data": {
            "text/plain": [
              "<Figure size 432x288 with 1 Axes>"
            ],
            "image/png": "[encoded data removed]"
          },
          "metadata": {
            "needs_background": "light"
          }
        }
      ]
    },
    {
      "cell_type": "markdown",
      "source": [
        "### Caso 1: Con regularizador l1"
      ],
      "metadata": {
        "id": "pw6iBGO5Bg8J"
      }
    },
    {
      "cell_type": "code",
      "source": [
        "network1 = crea_modelo(1)"
      ],
      "metadata": {
        "id": "D6JPtw5zCz-1",
        "outputId": "3f592e0a-2f0d-48e5-e806-553e3a72264b",
        "colab": {
          "base_uri": "https://localhost:8080/"
        }
      },
      "execution_count": 15,
      "outputs": [
        {
          "output_type": "stream",
          "name": "stdout",
          "text": [
            "Model: \"sequential_1\"\n",
            "_________________________________________________________________\n",
            " Layer (type)                Output Shape              Param #   \n",
            "=================================================================\n",
            " dense_2 (Dense)             (None, 512)               401920    \n",
            "                                                                 \n",
            " dense_3 (Dense)             (None, 10)                5130      \n",
            "                                                                 \n",
            "=================================================================\n",
            "Total params: 407,050\n",
            "Trainable params: 407,050\n",
            "Non-trainable params: 0\n",
            "_________________________________________________________________\n"
          ]
        }
      ]
    },
    {
      "cell_type": "code",
      "source": [
        "network1 = compila_modelo(network1)"
      ],
      "metadata": {
        "id": "zL3Gp7wvFRq3"
      },
      "execution_count": 16,
      "outputs": []
    },
    {
      "cell_type": "code",
      "source": [
        "historia1 = entrena_modelo(network1)"
      ],
      "metadata": {
        "id": "G2FG1Z4xFW72",
        "outputId": "66f85c3b-0b1c-455b-b137-3a59b8288a3a",
        "colab": {
          "base_uri": "https://localhost:8080/"
        }
      },
      "execution_count": 17,
      "outputs": [
        {
          "output_type": "stream",
          "name": "stdout",
          "text": [
            "Epoch 1/30\n",
            "391/391 [==============================] - 2s 4ms/step - loss: 2.1212 - accuracy: 0.8462 - val_loss: 0.9982 - val_accuracy: 0.8843\n",
            "Epoch 2/30\n",
            "391/391 [==============================] - 1s 4ms/step - loss: 0.9510 - accuracy: 0.8826 - val_loss: 0.8901 - val_accuracy: 0.8934\n",
            "Epoch 3/30\n",
            "391/391 [==============================] - 1s 4ms/step - loss: 0.8255 - accuracy: 0.9049 - val_loss: 0.7738 - val_accuracy: 0.9202\n",
            "Epoch 4/30\n",
            "391/391 [==============================] - 1s 4ms/step - loss: 0.7535 - accuracy: 0.9168 - val_loss: 0.7068 - val_accuracy: 0.9358\n",
            "Epoch 5/30\n",
            "391/391 [==============================] - 1s 4ms/step - loss: 0.7069 - accuracy: 0.9244 - val_loss: 0.6727 - val_accuracy: 0.9396\n",
            "Epoch 6/30\n",
            "391/391 [==============================] - 2s 4ms/step - loss: 0.6694 - accuracy: 0.9324 - val_loss: 0.6694 - val_accuracy: 0.9251\n",
            "Epoch 7/30\n",
            "391/391 [==============================] - 2s 4ms/step - loss: 0.6421 - accuracy: 0.9347 - val_loss: 0.6134 - val_accuracy: 0.9457\n",
            "Epoch 8/30\n",
            "391/391 [==============================] - 1s 4ms/step - loss: 0.6201 - accuracy: 0.9393 - val_loss: 0.5772 - val_accuracy: 0.9529\n",
            "Epoch 9/30\n",
            "391/391 [==============================] - 2s 4ms/step - loss: 0.6032 - accuracy: 0.9420 - val_loss: 0.5826 - val_accuracy: 0.9443\n",
            "Epoch 10/30\n",
            "391/391 [==============================] - 1s 4ms/step - loss: 0.5868 - accuracy: 0.9443 - val_loss: 0.5672 - val_accuracy: 0.9542\n",
            "Epoch 11/30\n",
            "391/391 [==============================] - 2s 4ms/step - loss: 0.5723 - accuracy: 0.9476 - val_loss: 0.5471 - val_accuracy: 0.9555\n",
            "Epoch 12/30\n",
            "391/391 [==============================] - 1s 4ms/step - loss: 0.5631 - accuracy: 0.9472 - val_loss: 0.5595 - val_accuracy: 0.9524\n",
            "Epoch 13/30\n",
            "391/391 [==============================] - 2s 4ms/step - loss: 0.5542 - accuracy: 0.9495 - val_loss: 0.5458 - val_accuracy: 0.9521\n",
            "Epoch 14/30\n",
            "391/391 [==============================] - 2s 4ms/step - loss: 0.5449 - accuracy: 0.9509 - val_loss: 0.5252 - val_accuracy: 0.9576\n",
            "Epoch 15/30\n",
            "391/391 [==============================] - 2s 4ms/step - loss: 0.5377 - accuracy: 0.9525 - val_loss: 0.5237 - val_accuracy: 0.9567\n",
            "Epoch 16/30\n",
            "391/391 [==============================] - 2s 4ms/step - loss: 0.5303 - accuracy: 0.9545 - val_loss: 0.5162 - val_accuracy: 0.9566\n",
            "Epoch 17/30\n",
            "391/391 [==============================] - 1s 3ms/step - loss: 0.5248 - accuracy: 0.9534 - val_loss: 0.5221 - val_accuracy: 0.9516\n",
            "Epoch 18/30\n",
            "391/391 [==============================] - 2s 4ms/step - loss: 0.5195 - accuracy: 0.9544 - val_loss: 0.4888 - val_accuracy: 0.9647\n",
            "Epoch 19/30\n",
            "391/391 [==============================] - 1s 3ms/step - loss: 0.5152 - accuracy: 0.9550 - val_loss: 0.5127 - val_accuracy: 0.9510\n",
            "Epoch 20/30\n",
            "391/391 [==============================] - 2s 4ms/step - loss: 0.5119 - accuracy: 0.9552 - val_loss: 0.5034 - val_accuracy: 0.9593\n",
            "Epoch 21/30\n",
            "391/391 [==============================] - 2s 4ms/step - loss: 0.5086 - accuracy: 0.9558 - val_loss: 0.4832 - val_accuracy: 0.9641\n",
            "Epoch 22/30\n",
            "391/391 [==============================] - 2s 5ms/step - loss: 0.5048 - accuracy: 0.9566 - val_loss: 0.5023 - val_accuracy: 0.9571\n",
            "Epoch 23/30\n",
            "391/391 [==============================] - 1s 4ms/step - loss: 0.5017 - accuracy: 0.9571 - val_loss: 0.5107 - val_accuracy: 0.9565\n",
            "Epoch 24/30\n",
            "391/391 [==============================] - 2s 4ms/step - loss: 0.5004 - accuracy: 0.9576 - val_loss: 0.5225 - val_accuracy: 0.9517\n",
            "Epoch 25/30\n",
            "391/391 [==============================] - 2s 4ms/step - loss: 0.4962 - accuracy: 0.9574 - val_loss: 0.4707 - val_accuracy: 0.9669\n",
            "Epoch 26/30\n",
            "391/391 [==============================] - 2s 4ms/step - loss: 0.4940 - accuracy: 0.9579 - val_loss: 0.5242 - val_accuracy: 0.9515\n",
            "Epoch 27/30\n",
            "391/391 [==============================] - 1s 4ms/step - loss: 0.4922 - accuracy: 0.9586 - val_loss: 0.4971 - val_accuracy: 0.9593\n",
            "Epoch 28/30\n",
            "391/391 [==============================] - 1s 4ms/step - loss: 0.4901 - accuracy: 0.9586 - val_loss: 0.4669 - val_accuracy: 0.9661\n",
            "Epoch 29/30\n",
            "391/391 [==============================] - 1s 4ms/step - loss: 0.4863 - accuracy: 0.9594 - val_loss: 0.4701 - val_accuracy: 0.9634\n",
            "Epoch 30/30\n",
            "391/391 [==============================] - 1s 4ms/step - loss: 0.4837 - accuracy: 0.9594 - val_loss: 0.4915 - val_accuracy: 0.9592\n"
          ]
        }
      ]
    },
    {
      "cell_type": "code",
      "source": [
        "pinta_perdida_entrenamiento_validacion(historia1)"
      ],
      "metadata": {
        "id": "Vyv3yFtiFitw",
        "outputId": "56b94b32-6c6e-4e1e-b282-2aa9f829b058",
        "colab": {
          "base_uri": "https://localhost:8080/",
          "height": 295
        }
      },
      "execution_count": 18,
      "outputs": [
        {
          "output_type": "display_data",
          "data": {
            "text/plain": [
              "<Figure size 432x288 with 1 Axes>"
            ],
            "image/png": "[encoded data removed]"
          },
          "metadata": {
            "needs_background": "light"
          }
        }
      ]
    },
    {
      "cell_type": "code",
      "source": [
        "pinta_precision_entrenamiento_validacion(historia1)"
      ],
      "metadata": {
        "id": "pVUerJsqFo7K",
        "outputId": "4191035c-9f94-4d6b-ca13-d828b46020a8",
        "colab": {
          "base_uri": "https://localhost:8080/",
          "height": 295
        }
      },
      "execution_count": 19,
      "outputs": [
        {
          "output_type": "display_data",
          "data": {
            "text/plain": [
              "<Figure size 432x288 with 1 Axes>"
            ],
            "image/png": "[encoded data removed]"
          },
          "metadata": {
            "needs_background": "light"
          }
        }
      ]
    },
    {
      "cell_type": "markdown",
      "source": [
        "### Caso 2: Con regularizador l2"
      ],
      "metadata": {
        "id": "hklwKNlMBzya"
      }
    },
    {
      "cell_type": "code",
      "source": [
        "network2 = crea_modelo(2)"
      ],
      "metadata": {
        "id": "tjIs0FziG5Ja",
        "outputId": "3046768e-583b-4466-9669-8ed382b4acc2",
        "colab": {
          "base_uri": "https://localhost:8080/"
        }
      },
      "execution_count": 20,
      "outputs": [
        {
          "output_type": "stream",
          "name": "stdout",
          "text": [
            "Model: \"sequential_2\"\n",
            "_________________________________________________________________\n",
            " Layer (type)                Output Shape              Param #   \n",
            "=================================================================\n",
            " dense_4 (Dense)             (None, 512)               401920    \n",
            "                                                                 \n",
            " dense_5 (Dense)             (None, 10)                5130      \n",
            "                                                                 \n",
            "=================================================================\n",
            "Total params: 407,050\n",
            "Trainable params: 407,050\n",
            "Non-trainable params: 0\n",
            "_________________________________________________________________\n"
          ]
        }
      ]
    },
    {
      "cell_type": "code",
      "source": [
        "network2 = compila_modelo(network2)"
      ],
      "metadata": {
        "id": "UCdA0K_qyTUq"
      },
      "execution_count": 21,
      "outputs": []
    },
    {
      "cell_type": "code",
      "source": [
        "historia2 = entrena_modelo(network2)"
      ],
      "metadata": {
        "id": "WSuomx5oybpu",
        "outputId": "f0999dff-e3c7-441b-e0d5-96af61e64153",
        "colab": {
          "base_uri": "https://localhost:8080/"
        }
      },
      "execution_count": 22,
      "outputs": [
        {
          "output_type": "stream",
          "name": "stdout",
          "text": [
            "Epoch 1/30\n",
            "391/391 [==============================] - 2s 4ms/step - loss: 0.5256 - accuracy: 0.9123 - val_loss: 0.3824 - val_accuracy: 0.9254\n",
            "Epoch 2/30\n",
            "391/391 [==============================] - 1s 3ms/step - loss: 0.2650 - accuracy: 0.9542 - val_loss: 0.2395 - val_accuracy: 0.9564\n",
            "Epoch 3/30\n",
            "391/391 [==============================] - 1s 4ms/step - loss: 0.2119 - accuracy: 0.9623 - val_loss: 0.1898 - val_accuracy: 0.9696\n",
            "Epoch 4/30\n",
            "391/391 [==============================] - 2s 4ms/step - loss: 0.1857 - accuracy: 0.9673 - val_loss: 0.1810 - val_accuracy: 0.9708\n",
            "Epoch 5/30\n",
            "391/391 [==============================] - 1s 3ms/step - loss: 0.1732 - accuracy: 0.9700 - val_loss: 0.1780 - val_accuracy: 0.9661\n",
            "Epoch 6/30\n",
            "391/391 [==============================] - 2s 4ms/step - loss: 0.1652 - accuracy: 0.9713 - val_loss: 0.1619 - val_accuracy: 0.9724\n",
            "Epoch 7/30\n",
            "391/391 [==============================] - 1s 3ms/step - loss: 0.1576 - accuracy: 0.9722 - val_loss: 0.1946 - val_accuracy: 0.9610\n",
            "Epoch 8/30\n",
            "391/391 [==============================] - 1s 4ms/step - loss: 0.1516 - accuracy: 0.9748 - val_loss: 0.1631 - val_accuracy: 0.9707\n",
            "Epoch 9/30\n",
            "391/391 [==============================] - 1s 3ms/step - loss: 0.1464 - accuracy: 0.9750 - val_loss: 0.1693 - val_accuracy: 0.9672\n",
            "Epoch 10/30\n",
            "391/391 [==============================] - 2s 4ms/step - loss: 0.1431 - accuracy: 0.9755 - val_loss: 0.1520 - val_accuracy: 0.9737\n",
            "Epoch 11/30\n",
            "391/391 [==============================] - 2s 4ms/step - loss: 0.1397 - accuracy: 0.9765 - val_loss: 0.1601 - val_accuracy: 0.9682\n",
            "Epoch 12/30\n",
            "391/391 [==============================] - 1s 3ms/step - loss: 0.1377 - accuracy: 0.9772 - val_loss: 0.1603 - val_accuracy: 0.9711\n",
            "Epoch 13/30\n",
            "391/391 [==============================] - 1s 4ms/step - loss: 0.1354 - accuracy: 0.9767 - val_loss: 0.1604 - val_accuracy: 0.9703\n",
            "Epoch 14/30\n",
            "391/391 [==============================] - 1s 4ms/step - loss: 0.1316 - accuracy: 0.9779 - val_loss: 0.1516 - val_accuracy: 0.9727\n",
            "Epoch 15/30\n",
            "391/391 [==============================] - 2s 4ms/step - loss: 0.1296 - accuracy: 0.9782 - val_loss: 0.1398 - val_accuracy: 0.9741\n",
            "Epoch 16/30\n",
            "391/391 [==============================] - 2s 4ms/step - loss: 0.1287 - accuracy: 0.9785 - val_loss: 0.1449 - val_accuracy: 0.9718\n",
            "Epoch 17/30\n",
            "391/391 [==============================] - 1s 3ms/step - loss: 0.1251 - accuracy: 0.9787 - val_loss: 0.1308 - val_accuracy: 0.9770\n",
            "Epoch 18/30\n",
            "391/391 [==============================] - 2s 4ms/step - loss: 0.1243 - accuracy: 0.9786 - val_loss: 0.1382 - val_accuracy: 0.9747\n",
            "Epoch 19/30\n",
            "391/391 [==============================] - 1s 4ms/step - loss: 0.1224 - accuracy: 0.9801 - val_loss: 0.1472 - val_accuracy: 0.9734\n",
            "Epoch 20/30\n",
            "391/391 [==============================] - 1s 3ms/step - loss: 0.1202 - accuracy: 0.9800 - val_loss: 0.1541 - val_accuracy: 0.9719\n",
            "Epoch 21/30\n",
            "391/391 [==============================] - 1s 4ms/step - loss: 0.1197 - accuracy: 0.9802 - val_loss: 0.1490 - val_accuracy: 0.9727\n",
            "Epoch 22/30\n",
            "391/391 [==============================] - 2s 4ms/step - loss: 0.1180 - accuracy: 0.9805 - val_loss: 0.1417 - val_accuracy: 0.9746\n",
            "Epoch 23/30\n",
            "391/391 [==============================] - 2s 4ms/step - loss: 0.1176 - accuracy: 0.9803 - val_loss: 0.1915 - val_accuracy: 0.9587\n",
            "Epoch 24/30\n",
            "391/391 [==============================] - 2s 4ms/step - loss: 0.1142 - accuracy: 0.9818 - val_loss: 0.1681 - val_accuracy: 0.9673\n",
            "Epoch 25/30\n",
            "391/391 [==============================] - 1s 3ms/step - loss: 0.1138 - accuracy: 0.9811 - val_loss: 0.1405 - val_accuracy: 0.9761\n",
            "Epoch 26/30\n",
            "391/391 [==============================] - 1s 4ms/step - loss: 0.1138 - accuracy: 0.9805 - val_loss: 0.1540 - val_accuracy: 0.9712\n",
            "Epoch 27/30\n",
            "391/391 [==============================] - 1s 3ms/step - loss: 0.1110 - accuracy: 0.9815 - val_loss: 0.1641 - val_accuracy: 0.9669\n",
            "Epoch 28/30\n",
            "391/391 [==============================] - 1s 4ms/step - loss: 0.1119 - accuracy: 0.9816 - val_loss: 0.1283 - val_accuracy: 0.9783\n",
            "Epoch 29/30\n",
            "391/391 [==============================] - 2s 4ms/step - loss: 0.1091 - accuracy: 0.9828 - val_loss: 0.1239 - val_accuracy: 0.9784\n",
            "Epoch 30/30\n",
            "391/391 [==============================] - 2s 4ms/step - loss: 0.1087 - accuracy: 0.9820 - val_loss: 0.1487 - val_accuracy: 0.9717\n"
          ]
        }
      ]
    },
    {
      "cell_type": "code",
      "source": [
        "pinta_perdida_entrenamiento_validacion(historia2)"
      ],
      "metadata": {
        "id": "aXXzm8tpyj6X",
        "outputId": "8ba2aec9-8bf9-4076-c4ba-c370ba9ef2fd",
        "colab": {
          "base_uri": "https://localhost:8080/",
          "height": 295
        }
      },
      "execution_count": 23,
      "outputs": [
        {
          "output_type": "display_data",
          "data": {
            "text/plain": [
              "<Figure size 432x288 with 1 Axes>"
            ],
            "image/png": "[encoded data removed]"
          },
          "metadata": {
            "needs_background": "light"
          }
        }
      ]
    },
    {
      "cell_type": "code",
      "source": [
        "pinta_precision_entrenamiento_validacion(historia2)"
      ],
      "metadata": {
        "id": "CLTsg5LTypH9",
        "outputId": "ed330505-127f-44b7-fb3e-ba35082d1963",
        "colab": {
          "base_uri": "https://localhost:8080/",
          "height": 295
        }
      },
      "execution_count": 24,
      "outputs": [
        {
          "output_type": "display_data",
          "data": {
            "text/plain": [
              "<Figure size 432x288 with 1 Axes>"
            ],
            "image/png": "[encoded data removed]"
          },
          "metadata": {
            "needs_background": "light"
          }
        }
      ]
    },
    {
      "cell_type": "markdown",
      "source": [
        "### Caso 3: Con regularizador l1_l2"
      ],
      "metadata": {
        "id": "692oWz8oB82n"
      }
    },
    {
      "cell_type": "code",
      "source": [
        "network3 = crea_modelo(3)"
      ],
      "metadata": {
        "id": "5fdxkjoKzFcu",
        "outputId": "a79a5a88-8f10-4c4d-c62f-b22f71395e2b",
        "colab": {
          "base_uri": "https://localhost:8080/"
        }
      },
      "execution_count": 25,
      "outputs": [
        {
          "output_type": "stream",
          "name": "stdout",
          "text": [
            "Model: \"sequential_3\"\n",
            "_________________________________________________________________\n",
            " Layer (type)                Output Shape              Param #   \n",
            "=================================================================\n",
            " dense_6 (Dense)             (None, 512)               401920    \n",
            "                                                                 \n",
            " dense_7 (Dense)             (None, 10)                5130      \n",
            "                                                                 \n",
            "=================================================================\n",
            "Total params: 407,050\n",
            "Trainable params: 407,050\n",
            "Non-trainable params: 0\n",
            "_________________________________________________________________\n"
          ]
        }
      ]
    },
    {
      "cell_type": "code",
      "source": [
        "network3 = compila_modelo(network3)"
      ],
      "metadata": {
        "id": "VJzs9A2yzPhx"
      },
      "execution_count": 26,
      "outputs": []
    },
    {
      "cell_type": "code",
      "source": [
        "historia3 = entrena_modelo(network3)"
      ],
      "metadata": {
        "id": "1JCUbcCQzY6E",
        "outputId": "d145cc51-af91-457e-b026-baf483d93d65",
        "colab": {
          "base_uri": "https://localhost:8080/"
        }
      },
      "execution_count": 27,
      "outputs": [
        {
          "output_type": "stream",
          "name": "stdout",
          "text": [
            "Epoch 1/30\n",
            "391/391 [==============================] - 2s 5ms/step - loss: 2.1747 - accuracy: 0.8423 - val_loss: 1.0530 - val_accuracy: 0.8749\n",
            "Epoch 2/30\n",
            "391/391 [==============================] - 2s 4ms/step - loss: 0.9772 - accuracy: 0.8776 - val_loss: 0.9077 - val_accuracy: 0.8923\n",
            "Epoch 3/30\n",
            "391/391 [==============================] - 1s 4ms/step - loss: 0.8599 - accuracy: 0.8968 - val_loss: 0.7831 - val_accuracy: 0.9233\n",
            "Epoch 4/30\n",
            "391/391 [==============================] - 1s 3ms/step - loss: 0.7833 - accuracy: 0.9113 - val_loss: 0.7947 - val_accuracy: 0.9045\n",
            "Epoch 5/30\n",
            "391/391 [==============================] - 1s 3ms/step - loss: 0.7315 - accuracy: 0.9218 - val_loss: 0.6976 - val_accuracy: 0.9256\n",
            "Epoch 6/30\n",
            "391/391 [==============================] - 1s 3ms/step - loss: 0.6946 - accuracy: 0.9273 - val_loss: 0.6508 - val_accuracy: 0.9408\n",
            "Epoch 7/30\n",
            "391/391 [==============================] - 1s 3ms/step - loss: 0.6679 - accuracy: 0.9313 - val_loss: 0.6530 - val_accuracy: 0.9344\n",
            "Epoch 8/30\n",
            "391/391 [==============================] - 1s 3ms/step - loss: 0.6457 - accuracy: 0.9353 - val_loss: 0.6483 - val_accuracy: 0.9379\n",
            "Epoch 9/30\n",
            "391/391 [==============================] - 2s 4ms/step - loss: 0.6272 - accuracy: 0.9384 - val_loss: 0.6136 - val_accuracy: 0.9463\n",
            "Epoch 10/30\n",
            "391/391 [==============================] - 1s 3ms/step - loss: 0.6144 - accuracy: 0.9409 - val_loss: 0.5923 - val_accuracy: 0.9506\n",
            "Epoch 11/30\n",
            "391/391 [==============================] - 2s 4ms/step - loss: 0.6007 - accuracy: 0.9431 - val_loss: 0.6330 - val_accuracy: 0.9355\n",
            "Epoch 12/30\n",
            "391/391 [==============================] - 2s 4ms/step - loss: 0.5908 - accuracy: 0.9446 - val_loss: 0.5642 - val_accuracy: 0.9501\n",
            "Epoch 13/30\n",
            "391/391 [==============================] - 2s 4ms/step - loss: 0.5807 - accuracy: 0.9453 - val_loss: 0.5517 - val_accuracy: 0.9558\n",
            "Epoch 14/30\n",
            "391/391 [==============================] - 2s 5ms/step - loss: 0.5705 - accuracy: 0.9481 - val_loss: 0.5571 - val_accuracy: 0.9550\n",
            "Epoch 15/30\n",
            "391/391 [==============================] - 2s 4ms/step - loss: 0.5617 - accuracy: 0.9495 - val_loss: 0.5748 - val_accuracy: 0.9462\n",
            "Epoch 16/30\n",
            "391/391 [==============================] - 1s 4ms/step - loss: 0.5548 - accuracy: 0.9512 - val_loss: 0.5563 - val_accuracy: 0.9500\n",
            "Epoch 17/30\n",
            "391/391 [==============================] - 1s 3ms/step - loss: 0.5485 - accuracy: 0.9514 - val_loss: 0.5638 - val_accuracy: 0.9460\n",
            "Epoch 18/30\n",
            "391/391 [==============================] - 1s 3ms/step - loss: 0.5427 - accuracy: 0.9518 - val_loss: 0.5818 - val_accuracy: 0.9430\n",
            "Epoch 19/30\n",
            "391/391 [==============================] - 1s 4ms/step - loss: 0.5390 - accuracy: 0.9520 - val_loss: 0.5191 - val_accuracy: 0.9576\n",
            "Epoch 20/30\n",
            "391/391 [==============================] - 1s 4ms/step - loss: 0.5348 - accuracy: 0.9528 - val_loss: 0.5483 - val_accuracy: 0.9523\n",
            "Epoch 21/30\n",
            "391/391 [==============================] - 1s 4ms/step - loss: 0.5311 - accuracy: 0.9531 - val_loss: 0.5295 - val_accuracy: 0.9544\n",
            "Epoch 22/30\n",
            "391/391 [==============================] - 1s 3ms/step - loss: 0.5249 - accuracy: 0.9539 - val_loss: 0.5145 - val_accuracy: 0.9565\n",
            "Epoch 23/30\n",
            "391/391 [==============================] - 1s 4ms/step - loss: 0.5231 - accuracy: 0.9543 - val_loss: 0.5327 - val_accuracy: 0.9499\n",
            "Epoch 24/30\n",
            "391/391 [==============================] - 2s 4ms/step - loss: 0.5198 - accuracy: 0.9553 - val_loss: 0.5305 - val_accuracy: 0.9506\n",
            "Epoch 25/30\n",
            "391/391 [==============================] - 1s 4ms/step - loss: 0.5163 - accuracy: 0.9565 - val_loss: 0.5076 - val_accuracy: 0.9612\n",
            "Epoch 26/30\n",
            "391/391 [==============================] - 2s 4ms/step - loss: 0.5125 - accuracy: 0.9574 - val_loss: 0.5303 - val_accuracy: 0.9513\n",
            "Epoch 27/30\n",
            "391/391 [==============================] - 2s 4ms/step - loss: 0.5124 - accuracy: 0.9561 - val_loss: 0.5274 - val_accuracy: 0.9540\n",
            "Epoch 28/30\n",
            "391/391 [==============================] - 1s 3ms/step - loss: 0.5076 - accuracy: 0.9572 - val_loss: 0.5530 - val_accuracy: 0.9473\n",
            "Epoch 29/30\n",
            "391/391 [==============================] - 1s 4ms/step - loss: 0.5061 - accuracy: 0.9573 - val_loss: 0.5026 - val_accuracy: 0.9622\n",
            "Epoch 30/30\n",
            "391/391 [==============================] - 1s 4ms/step - loss: 0.5041 - accuracy: 0.9572 - val_loss: 0.4850 - val_accuracy: 0.9622\n"
          ]
        }
      ]
    },
    {
      "cell_type": "code",
      "source": [
        "pinta_perdida_entrenamiento_validacion(historia3)"
      ],
      "metadata": {
        "id": "I8XzPVtyze8y",
        "outputId": "e861a202-fb83-4cb4-debb-bcacabe0956e",
        "colab": {
          "base_uri": "https://localhost:8080/",
          "height": 295
        }
      },
      "execution_count": 28,
      "outputs": [
        {
          "output_type": "display_data",
          "data": {
            "text/plain": [
              "<Figure size 432x288 with 1 Axes>"
            ],
            "image/png": "[encoded data removed]"
          },
          "metadata": {
            "needs_background": "light"
          }
        }
      ]
    },
    {
      "cell_type": "code",
      "source": [
        "pinta_precision_entrenamiento_validacion(historia3)"
      ],
      "metadata": {
        "id": "nKk7AmM8zi3A",
        "outputId": "839a1afc-9a90-4258-87f7-873b50a0654e",
        "colab": {
          "base_uri": "https://localhost:8080/",
          "height": 295
        }
      },
      "execution_count": 29,
      "outputs": [
        {
          "output_type": "display_data",
          "data": {
            "text/plain": [
              "<Figure size 432x288 with 1 Axes>"
            ],
            "image/png": "[encoded data removed]"
          },
          "metadata": {
            "needs_background": "light"
          }
        }
      ]
    },
    {
      "cell_type": "markdown",
      "source": [
        "### Caso 4: Con Droput"
      ],
      "metadata": {
        "id": "OPVcbgcXCFRL"
      }
    },
    {
      "cell_type": "code",
      "source": [
        "network4 = crea_modelo(4)"
      ],
      "metadata": {
        "id": "5MVbUNX11Pgr",
        "outputId": "992421c7-09e8-4c38-a294-311fa35190db",
        "colab": {
          "base_uri": "https://localhost:8080/"
        }
      },
      "execution_count": 30,
      "outputs": [
        {
          "output_type": "stream",
          "name": "stdout",
          "text": [
            "Model: \"sequential_4\"\n",
            "_________________________________________________________________\n",
            " Layer (type)                Output Shape              Param #   \n",
            "=================================================================\n",
            " dense_8 (Dense)             (None, 512)               401920    \n",
            "                                                                 \n",
            " dropout (Dropout)           (None, 512)               0         \n",
            "                                                                 \n",
            " dense_9 (Dense)             (None, 10)                5130      \n",
            "                                                                 \n",
            "=================================================================\n",
            "Total params: 407,050\n",
            "Trainable params: 407,050\n",
            "Non-trainable params: 0\n",
            "_________________________________________________________________\n"
          ]
        }
      ]
    },
    {
      "cell_type": "code",
      "source": [
        "network4 = compila_modelo(network4)"
      ],
      "metadata": {
        "id": "pT-13IKI1UpW"
      },
      "execution_count": 31,
      "outputs": []
    },
    {
      "cell_type": "code",
      "source": [
        "historia4 = entrena_modelo(network4)"
      ],
      "metadata": {
        "id": "kNWidx1S1aCH",
        "outputId": "71c0f03e-ee8d-4824-b15a-1bffb490b135",
        "colab": {
          "base_uri": "https://localhost:8080/"
        }
      },
      "execution_count": 32,
      "outputs": [
        {
          "output_type": "stream",
          "name": "stdout",
          "text": [
            "Epoch 1/30\n",
            "391/391 [==============================] - 2s 4ms/step - loss: 0.3442 - accuracy: 0.8996 - val_loss: 0.1590 - val_accuracy: 0.9554\n",
            "Epoch 2/30\n",
            "391/391 [==============================] - 2s 4ms/step - loss: 0.1681 - accuracy: 0.9498 - val_loss: 0.1205 - val_accuracy: 0.9645\n",
            "Epoch 3/30\n",
            "391/391 [==============================] - 1s 3ms/step - loss: 0.1248 - accuracy: 0.9624 - val_loss: 0.0967 - val_accuracy: 0.9722\n",
            "Epoch 4/30\n",
            "391/391 [==============================] - 1s 3ms/step - loss: 0.1060 - accuracy: 0.9679 - val_loss: 0.0918 - val_accuracy: 0.9748\n",
            "Epoch 5/30\n",
            "391/391 [==============================] - 1s 4ms/step - loss: 0.0922 - accuracy: 0.9724 - val_loss: 0.0891 - val_accuracy: 0.9751\n",
            "Epoch 6/30\n",
            "391/391 [==============================] - 2s 4ms/step - loss: 0.0800 - accuracy: 0.9767 - val_loss: 0.0830 - val_accuracy: 0.9777\n",
            "Epoch 7/30\n",
            "391/391 [==============================] - 1s 3ms/step - loss: 0.0744 - accuracy: 0.9777 - val_loss: 0.0800 - val_accuracy: 0.9785\n",
            "Epoch 8/30\n",
            "391/391 [==============================] - 1s 3ms/step - loss: 0.0657 - accuracy: 0.9798 - val_loss: 0.0812 - val_accuracy: 0.9786\n",
            "Epoch 9/30\n",
            "391/391 [==============================] - 2s 4ms/step - loss: 0.0629 - accuracy: 0.9806 - val_loss: 0.0855 - val_accuracy: 0.9785\n",
            "Epoch 10/30\n",
            "391/391 [==============================] - 1s 4ms/step - loss: 0.0590 - accuracy: 0.9814 - val_loss: 0.0771 - val_accuracy: 0.9797\n",
            "Epoch 11/30\n",
            "391/391 [==============================] - 1s 4ms/step - loss: 0.0553 - accuracy: 0.9830 - val_loss: 0.0802 - val_accuracy: 0.9794\n",
            "Epoch 12/30\n",
            "391/391 [==============================] - 1s 3ms/step - loss: 0.0524 - accuracy: 0.9840 - val_loss: 0.0800 - val_accuracy: 0.9801\n",
            "Epoch 13/30\n",
            "391/391 [==============================] - 1s 4ms/step - loss: 0.0492 - accuracy: 0.9852 - val_loss: 0.0809 - val_accuracy: 0.9809\n",
            "Epoch 14/30\n",
            "391/391 [==============================] - 1s 4ms/step - loss: 0.0479 - accuracy: 0.9853 - val_loss: 0.0785 - val_accuracy: 0.9812\n",
            "Epoch 15/30\n",
            "391/391 [==============================] - 1s 4ms/step - loss: 0.0429 - accuracy: 0.9871 - val_loss: 0.0836 - val_accuracy: 0.9814\n",
            "Epoch 16/30\n",
            "391/391 [==============================] - 2s 5ms/step - loss: 0.0409 - accuracy: 0.9876 - val_loss: 0.0824 - val_accuracy: 0.9823\n",
            "Epoch 17/30\n",
            "391/391 [==============================] - 1s 4ms/step - loss: 0.0409 - accuracy: 0.9874 - val_loss: 0.0889 - val_accuracy: 0.9793\n",
            "Epoch 18/30\n",
            "391/391 [==============================] - 1s 3ms/step - loss: 0.0375 - accuracy: 0.9888 - val_loss: 0.0846 - val_accuracy: 0.9809\n",
            "Epoch 19/30\n",
            "391/391 [==============================] - 1s 4ms/step - loss: 0.0362 - accuracy: 0.9891 - val_loss: 0.0871 - val_accuracy: 0.9823\n",
            "Epoch 20/30\n",
            "391/391 [==============================] - 1s 3ms/step - loss: 0.0358 - accuracy: 0.9887 - val_loss: 0.0945 - val_accuracy: 0.9818\n",
            "Epoch 21/30\n",
            "391/391 [==============================] - 1s 4ms/step - loss: 0.0337 - accuracy: 0.9898 - val_loss: 0.0892 - val_accuracy: 0.9828\n",
            "Epoch 22/30\n",
            "391/391 [==============================] - 1s 4ms/step - loss: 0.0355 - accuracy: 0.9891 - val_loss: 0.0859 - val_accuracy: 0.9828\n",
            "Epoch 23/30\n",
            "391/391 [==============================] - 1s 4ms/step - loss: 0.0302 - accuracy: 0.9903 - val_loss: 0.0906 - val_accuracy: 0.9812\n",
            "Epoch 24/30\n",
            "391/391 [==============================] - 1s 4ms/step - loss: 0.0299 - accuracy: 0.9909 - val_loss: 0.0946 - val_accuracy: 0.9822\n",
            "Epoch 25/30\n",
            "391/391 [==============================] - 1s 3ms/step - loss: 0.0283 - accuracy: 0.9913 - val_loss: 0.0923 - val_accuracy: 0.9825\n",
            "Epoch 26/30\n",
            "391/391 [==============================] - 1s 3ms/step - loss: 0.0285 - accuracy: 0.9917 - val_loss: 0.0968 - val_accuracy: 0.9814\n",
            "Epoch 27/30\n",
            "391/391 [==============================] - 2s 4ms/step - loss: 0.0283 - accuracy: 0.9914 - val_loss: 0.0996 - val_accuracy: 0.9826\n",
            "Epoch 28/30\n",
            "391/391 [==============================] - 1s 3ms/step - loss: 0.0289 - accuracy: 0.9908 - val_loss: 0.0970 - val_accuracy: 0.9820\n",
            "Epoch 29/30\n",
            "391/391 [==============================] - 1s 4ms/step - loss: 0.0259 - accuracy: 0.9921 - val_loss: 0.1013 - val_accuracy: 0.9816\n",
            "Epoch 30/30\n",
            "391/391 [==============================] - 1s 3ms/step - loss: 0.0249 - accuracy: 0.9925 - val_loss: 0.1038 - val_accuracy: 0.9815\n"
          ]
        }
      ]
    },
    {
      "cell_type": "code",
      "source": [
        "pinta_perdida_entrenamiento_validacion(historia4)"
      ],
      "metadata": {
        "id": "R9pI34Yr1gBO",
        "outputId": "96fa6fdf-4fb6-4494-f75c-fbcbd6b58b60",
        "colab": {
          "base_uri": "https://localhost:8080/",
          "height": 295
        }
      },
      "execution_count": 33,
      "outputs": [
        {
          "output_type": "display_data",
          "data": {
            "text/plain": [
              "<Figure size 432x288 with 1 Axes>"
            ],
            "image/png": "[encoded data removed]"
          },
          "metadata": {
            "needs_background": "light"
          }
        }
      ]
    },
    {
      "cell_type": "code",
      "source": [
        "pinta_precision_entrenamiento_validacion(historia4)"
      ],
      "metadata": {
        "id": "EwEIEOKx1lQr",
        "outputId": "05ad4375-08d7-494b-9b15-8946a7573c58",
        "colab": {
          "base_uri": "https://localhost:8080/",
          "height": 295
        }
      },
      "execution_count": 34,
      "outputs": [
        {
          "output_type": "display_data",
          "data": {
            "text/plain": [
              "<Figure size 432x288 with 1 Axes>"
            ],
            "image/png": "[encoded data removed]"
          },
          "metadata": {
            "needs_background": "light"
          }
        }
      ]
    },
    {
      "cell_type": "markdown",
      "source": [
        "### Caso 5: Error de código de regularizador"
      ],
      "metadata": {
        "id": "e6rlKx2nCOgU"
      }
    },
    {
      "cell_type": "code",
      "source": [
        "network5 = crea_modelo(5)"
      ],
      "metadata": {
        "id": "SqGDm8VM1rwR",
        "outputId": "85c401f9-e3b6-48dc-96e9-1d33bb92ae0a",
        "colab": {
          "base_uri": "https://localhost:8080/"
        }
      },
      "execution_count": 37,
      "outputs": [
        {
          "output_type": "stream",
          "name": "stdout",
          "text": [
            "Error:Regularizador debe ser un número del 0 al 4\n"
          ]
        }
      ]
    },
    {
      "cell_type": "markdown",
      "source": [
        "### CONCLUSIONES"
      ],
      "metadata": {
        "id": "IklUu29cCcVe"
      }
    },
    {
      "cell_type": "markdown",
      "source": [
        "Para el primer caso,sin regularizador,se puede observar que en el modelo tanto la pérdida como la precisión de los datos de entrenamiento con respecto a los datos son bastante distantes.Sobre la época 5,ambas gráficas se separan (se sobreentrena).El mejor dato de precisión lo obtenemos sobre la época 22 (0.9833).\n",
        "\n",
        "Cuando aplicamos el regularizador `l1`, obtenemos una relación con la pérdida bastante buena;aunque en el caso de la precisión no es igual.Pese a que no son iguales,es cierto que no se separan tan bruscamente como con el caso anterior.Alcanzamos el mejor valor de precisión en la época 25 (0.9669).\n",
        "\n",
        "Si aplicamos el regularizador `l2`,las gráficas son bastante inestables.Tanto los datos de pérdida como de precisión no presentan un comportamiento constante, ya sea en aumento o en descenso.Alcanzamos el mejor valor de precisión en la época 29(0.9784).\n",
        "\n",
        "En el caso de aplicar `l1` y `l2`,encontramos que en la gráfica de la pérdida ambas curvas se ajustan muy precisamente. En el caso de la precisión, vemos que las curvas se separan aunque no de una manera constante.Alcanzamos el mejor valor de precisión en la época 29-30 (0.9622).\n",
        "\n",
        "Finalmente,si obervamos qué ocurre al aplicar `dropout`;vemos que tanto en la pérdida como en la precisión el modelo llega a sobreentrenarse sobre la época 10.Esto se puede ver tanto en las gráficas (ambas curvas se separan sobre la época 10), como al entrenar el modelo(los datos comienzan a dispararse).Alcanzamos el mejor valor de precisión sobre la época 22 (0.9828).\n",
        "\n",
        "Por esto, concluimos que el mejor regularizador es el `dropout`.\n",
        "\n"
      ],
      "metadata": {
        "id": "cB_OYjjaChzN"
      }
    }
  ]
}